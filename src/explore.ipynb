{
    "cells": [
        {
            "cell_type": "markdown",
            "metadata": {},
            "source": [
                "# Explore here"
            ]
        },
        {
            "cell_type": "code",
            "execution_count": null,
            "metadata": {},
            "outputs": [
                {
                    "name": "stdout",
                    "output_type": "stream",
                    "text": [
                        "Rawayana\n",
                        "Me Pasa (Piscis)\n",
                        "Popularidad: 71\n",
                        "Duración (ms): 201307\n",
                        "Hora Loca\n",
                        "Popularidad: 70\n",
                        "Duración (ms): 191825\n",
                        "Binikini\n",
                        "Popularidad: 68\n",
                        "Duración (ms): 183253\n",
                        "Dame Un Break\n",
                        "Popularidad: 68\n",
                        "Duración (ms): 200598\n",
                        "High (feat. Apache)\n",
                        "Popularidad: 68\n",
                        "Duración (ms): 288388\n",
                        "Brinca (Acuario)\n",
                        "Popularidad: 68\n",
                        "Duración (ms): 219221\n",
                        "Feriado\n",
                        "Popularidad: 66\n",
                        "Duración (ms): 166399\n",
                        "VENGA lo que VENGA\n",
                        "Popularidad: 67\n",
                        "Duración (ms): 188584\n",
                        "Corazón Adentro (Escorpio)\n",
                        "Popularidad: 67\n",
                        "Duración (ms): 176666\n",
                        "Veneka\n",
                        "Popularidad: 67\n",
                        "Duración (ms): 254664\n"
                    ]
                },
                {
                    "data": {
                        "image/png": "[encoded data removed]",
                        "text/plain": [
                            "<Figure size 640x480 with 1 Axes>"
                        ]
                    },
                    "metadata": {},
                    "output_type": "display_data"
                }
            ],
            "source": [
                "import os\n",
                "import pandas as pd\n",
                "import matplotlib.pyplot as plt\n",
                "from dotenv import load_dotenv\n",
                "import requests\n",
                "import json\n",
                "import numpy as np\n",
                "import seaborn as sns\n",
                "import datetime\n",
                "\n",
                "#Generar acceso a la API de Spotify\n",
                "\n",
                "client_id = os.environ.get(\"CLIENT_ID\")\n",
                "client_secret = os.environ.get(\"CLIENT_SECRET\")\n",
                "\n",
                "#important spotipy\n",
                "\n",
                "import spotipy\n",
                "from spotipy.oauth2 import SpotifyClientCredentials\n",
                "\n",
                "import spotipy\n",
                "from spotipy.oauth2 import SpotifyClientCredentials\n",
                "\n",
                "auth_manager = SpotifyClientCredentials(client_id=client_id, client_secret=client_secret)\n",
                "spotify = spotipy.Spotify(auth_manager=auth_manager)\n",
                "\n",
                "# identificar artista\n",
                "rawa = (\"2AbQwU2cuEGfD465wCXlg2\")\n",
                "Artista=spotify.artist(rawa)\n",
                "nombre=Artista[\"name\"]\n",
                "print(nombre)\n",
                "\n",
                "canciones = spotify.artist_top_tracks(rawa)[\"tracks\"]\n",
                "\n",
                "#Primer intento\n",
                "\n",
                "#canciones = spotify.artist_top_tracks(rawa)\n",
                "#for cancion in canciones[\"tracks\"]:\n",
                "#    print(cancion[\"name\"])\n",
                " #   print(cancion[\"popularity\"])\n",
                "  #  print(cancion[\"duration_ms\"])\n",
                "\n",
                "# Me da error la columna de popularidad\n",
                "#print(cancion[\"popularity\"])\n",
                "\n",
                "#data=pd.DataFrame(canciones)\n"
            ]
        },
        {
            "cell_type": "code",
            "execution_count": null,
            "metadata": {},
            "outputs": [],
            "source": [
                "\n",
                "for cancion in canciones:\n",
                "    print(cancion[\"name\"])\n",
                "    print(\"Popularidad:\", cancion[\"popularity\"])\n",
                "    print(\"Duración (ms):\", cancion[\"duration_ms\"])\n",
                "\n",
                "# Crear DataFrame con los datos necesarios\n",
                "data = pd.DataFrame([{\n",
                "    \"name\": c[\"name\"],\n",
                "    \"popularity\": c[\"popularity\"],\n",
                "    \"duration_ms\": c[\"duration_ms\"]\n",
                "} for c in canciones])\n",
                "\n",
                "\n",
                "plt.scatter(data[\"popularity\"], data[\"duration_ms\"])\n",
                "plt.title(\"grafico de popularidad y duracion\")\n",
                "plt.xlabel(\"Popularidad\")\n",
                "plt.ylabel(\"Duración\")\n",
                "plt.show()\n",
                "    \n",
                "\n",
                "\n",
                "\n",
                "\n",
                "\n",
                "\n",
                "\n",
                "\n",
                "\n",
                "\n",
                "\n",
                "\n",
                "\n",
                "\n",
                "\n",
                "\n",
                "\n",
                "\n",
                "\n"
            ]
        }
    ],
    "metadata": {
        "kernelspec": {
            "display_name": "Python 3",
            "language": "python",
            "name": "python3"
        },
        "language_info": {
            "codemirror_mode": {
                "name": "ipython",
                "version": 3
            },
            "file_extension": ".py",
            "mimetype": "text/x-python",
            "name": "python",
            "nbconvert_exporter": "python",
            "pygments_lexer": "ipython3",
            "version": "3.11.4"
        },
        "orig_nbformat": 4
    },
    "nbformat": 4,
    "nbformat_minor": 2
}
